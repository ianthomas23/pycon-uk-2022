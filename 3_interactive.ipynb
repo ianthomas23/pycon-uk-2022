{
 "cells": [
  {
   "cell_type": "markdown",
   "id": "1d4f3a21-4949-4408-9924-2b078eaeceda",
   "metadata": {},
   "source": [
    "# Interactive Datashader using hvPlot"
   ]
  },
  {
   "cell_type": "code",
   "execution_count": null,
   "id": "92596e70-4912-4968-9e6d-210c1c2f9778",
   "metadata": {},
   "outputs": [],
   "source": [
    "import colorcet as cc\n",
    "import datashader as ds\n",
    "import pandas as pd\n",
    "import hvplot.pandas"
   ]
  },
  {
   "cell_type": "markdown",
   "id": "318581a2-deaf-45a2-bb90-e423d55a9c81",
   "metadata": {},
   "source": [
    "## 1. Read data from parquet file into pandas DataFrame"
   ]
  },
  {
   "cell_type": "code",
   "execution_count": null,
   "id": "7c23708e-cf94-4896-ab3e-b07b13303b8c",
   "metadata": {},
   "outputs": [],
   "source": [
    "df = pd.read_parquet(\"parq\")\n",
    "df"
   ]
  },
  {
   "cell_type": "markdown",
   "id": "45d359e3-4638-4b3b-ab13-529c4dfda616",
   "metadata": {},
   "source": [
    "## 2. Ethnic group column"
   ]
  },
  {
   "cell_type": "code",
   "execution_count": null,
   "id": "6ee008ee-0235-45f9-9cef-dc0924b21ab9",
   "metadata": {},
   "outputs": [],
   "source": [
    "df.groupby(\"ethnic_group\").size()"
   ]
  },
  {
   "cell_type": "markdown",
   "id": "b0fbac7f-83bb-4b6e-b034-ae1b46ef79e1",
   "metadata": {},
   "source": [
    "## 3. Height and width of image using correct aspect ratio"
   ]
  },
  {
   "cell_type": "code",
   "execution_count": null,
   "id": "33409ef5-7fde-49f4-ad87-019d38bfab21",
   "metadata": {},
   "outputs": [],
   "source": [
    "height = 750\n",
    "aspect = (df.x.max() - df.x.min()) / (df.y.max() - df.y.min())\n",
    "width = int(height*aspect)"
   ]
  },
  {
   "cell_type": "markdown",
   "id": "5c388d20-a015-44b6-ab95-896a2bf3968c",
   "metadata": {},
   "source": [
    "## 4. Choice of colours\n",
    "\n",
    "- ### ColorBrewer's Set1: https://colorbrewer2.org/#type=qualitative&scheme=Set1&n=3\n",
    "- ### Also in Bokeh: https://docs.bokeh.org/en/latest/docs/reference/palettes.html#brewer-palettes\n",
    "- ### AlsoAlsoAlso in datashader.colors as used here.  Essentially red, blue, green."
   ]
  },
  {
   "cell_type": "code",
   "execution_count": null,
   "id": "3a6ea8d4-0b49-4e6b-8d1c-5e9ee95549e9",
   "metadata": {},
   "outputs": [],
   "source": [
    "from datashader.colors import Set1\n",
    "color_key = {\"asian\": Set1[0], \"black\": Set1[1], \"mixed\": Set1[2], \"white\": \"#bbbbbb\", \"other\": \"black\"}"
   ]
  },
  {
   "cell_type": "markdown",
   "id": "feceb8d9-9e71-4a8d-b3a3-7d53a22cef55",
   "metadata": {},
   "source": [
    "## 5. Single call to a hvplot.scatter"
   ]
  },
  {
   "cell_type": "code",
   "execution_count": null,
   "id": "158d4cf3-f1c4-4658-a1c0-6dbb1389e179",
   "metadata": {},
   "outputs": [],
   "source": [
    "df.hvplot.scatter(x=\"x\", y=\"y\", aggregator=ds.by(\"ethnic_group\"), datashade=True, cnorm=\"eq_hist\",\n",
    "                  frame_width=width, frame_height=height, xaxis=None, yaxis=None,\n",
    "                  color_key=color_key) #.opts(bgcolor=\"black\")aspect"
   ]
  },
  {
   "cell_type": "markdown",
   "id": "8c6c26ec-0349-45b6-b9ea-792065dbc6a1",
   "metadata": {},
   "source": [
    "## Keywords: beautiful, fast, concise, interactive\n",
    "## Use this for exploring data"
   ]
  }
 ],
 "metadata": {
  "kernelspec": {
   "display_name": "Python 3 (ipykernel)",
   "language": "python",
   "name": "python3"
  },
  "language_info": {
   "codemirror_mode": {
    "name": "ipython",
    "version": 3
   },
   "file_extension": ".py",
   "mimetype": "text/x-python",
   "name": "python",
   "nbconvert_exporter": "python",
   "pygments_lexer": "ipython3",
   "version": "3.8.10"
  }
 },
 "nbformat": 4,
 "nbformat_minor": 5
}
