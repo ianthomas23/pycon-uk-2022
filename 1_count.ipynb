{
 "cells": [
  {
   "cell_type": "markdown",
   "id": "39fce76b-7883-4237-870d-80bf328361a6",
   "metadata": {},
   "source": [
    "# Introduction to Datashader"
   ]
  },
  {
   "cell_type": "code",
   "execution_count": null,
   "id": "39868f9c-7d71-4156-a63d-665a8f1c7eb1",
   "metadata": {},
   "outputs": [],
   "source": [
    "import colorcet as cc\n",
    "import datashader as ds\n",
    "import datashader.transfer_functions as tf\n",
    "import pandas as pd"
   ]
  },
  {
   "cell_type": "markdown",
   "id": "bf702cfb-01d8-4473-829d-fa4ea7426e98",
   "metadata": {
    "tags": []
   },
   "source": [
    "## 1. Read data from parquet file into pandas DataFrame"
   ]
  },
  {
   "cell_type": "code",
   "execution_count": null,
   "id": "abb00d3b-5ea6-4056-90f8-2cf5175cf561",
   "metadata": {},
   "outputs": [],
   "source": [
    "df = pd.read_parquet(\"parq\")\n",
    "df"
   ]
  },
  {
   "cell_type": "markdown",
   "id": "d6763ae3-af7c-4229-81dc-a58cc1b90377",
   "metadata": {
    "tags": []
   },
   "source": [
    "## 2. Height and width of image using correct aspect ratio"
   ]
  },
  {
   "cell_type": "code",
   "execution_count": null,
   "id": "8d438571-71df-4414-b161-253235a5c907",
   "metadata": {},
   "outputs": [],
   "source": [
    "height = 750\n",
    "aspect = (df.x.max() - df.x.min()) / (df.y.max() - df.y.min())\n",
    "width = int(height*aspect)"
   ]
  },
  {
   "cell_type": "markdown",
   "id": "a9b077fd-67dd-48af-8006-3c7f149a255a",
   "metadata": {},
   "source": [
    "## 3. Calculate counts per pixel"
   ]
  },
  {
   "cell_type": "code",
   "execution_count": null,
   "id": "61a19070-654c-4117-a438-a9fe0401be1b",
   "metadata": {},
   "outputs": [],
   "source": [
    "cvs = ds.Canvas(width, height)\n",
    "counts = cvs.points(df, \"x\", \"y\")\n",
    "type(counts), counts.shape, counts.dtype, counts.min().item(), counts.max().item()"
   ]
  },
  {
   "cell_type": "markdown",
   "id": "a1cec083-e49f-46e6-8ac3-4332402ff498",
   "metadata": {},
   "source": [
    "## 4. Apply a colourmap to the counts to obtain an image"
   ]
  },
  {
   "cell_type": "code",
   "execution_count": null,
   "id": "6bf38c0f-7c53-4d44-83e8-fd687fdacd39",
   "metadata": {},
   "outputs": [],
   "source": [
    "im = tf.shade(counts, how=\"log\", cmap=cc.gray)\n",
    "tf.set_background(im, \"black\")"
   ]
  },
  {
   "cell_type": "markdown",
   "id": "dddc2863-1cbf-44e2-aec2-a7778d049a9e",
   "metadata": {},
   "source": [
    "## 5. Try histogram equalisation"
   ]
  },
  {
   "cell_type": "code",
   "execution_count": null,
   "id": "4ec77daa-6707-4d27-a81d-789e6be59b68",
   "metadata": {},
   "outputs": [],
   "source": [
    "tf.set_background(tf.shade(counts, how='eq_hist', cmap=cc.gray[30:]), \"black\")"
   ]
  },
  {
   "cell_type": "markdown",
   "id": "3470c1fa-5a8f-4e05-b82d-34cc74f17368",
   "metadata": {},
   "source": [
    "## 6. A more interesting colourmap"
   ]
  },
  {
   "cell_type": "code",
   "execution_count": null,
   "id": "d6700bc7-5181-41dd-9b59-32d9bbf9d311",
   "metadata": {},
   "outputs": [],
   "source": [
    "tf.set_background(tf.shade(counts, how=\"eq_hist\", cmap=cc.fire[30:]), \"black\")  # Try cc.bgy or cc.rainbow?"
   ]
  },
  {
   "cell_type": "markdown",
   "id": "aa5ba697-4ff1-4da3-90b0-83e8056c429e",
   "metadata": {},
   "source": [
    "## Keywords: beautiful, fast, concise"
   ]
  }
 ],
 "metadata": {
  "kernelspec": {
   "display_name": "Python 3 (ipykernel)",
   "language": "python",
   "name": "python3"
  },
  "language_info": {
   "codemirror_mode": {
    "name": "ipython",
    "version": 3
   },
   "file_extension": ".py",
   "mimetype": "text/x-python",
   "name": "python",
   "nbconvert_exporter": "python",
   "pygments_lexer": "ipython3",
   "version": "3.8.10"
  }
 },
 "nbformat": 4,
 "nbformat_minor": 5
}
