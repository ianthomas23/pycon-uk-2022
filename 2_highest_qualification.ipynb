{
 "cells": [
  {
   "cell_type": "markdown",
   "id": "42575f8d-361f-4c73-a259-8e5e64aaa354",
   "metadata": {},
   "source": [
    "# Using categorical counts"
   ]
  },
  {
   "cell_type": "code",
   "execution_count": null,
   "id": "de26c221-f689-4fcb-a361-b16280ec3b12",
   "metadata": {},
   "outputs": [],
   "source": [
    "import colorcet as cc\n",
    "import datashader as ds\n",
    "import datashader.transfer_functions as tf\n",
    "import pandas as pd"
   ]
  },
  {
   "cell_type": "markdown",
   "id": "d82ddb42-205f-46be-941c-9f7bd5a3503f",
   "metadata": {},
   "source": [
    "## 1. Read data from parquet file into pandas DataFrame"
   ]
  },
  {
   "cell_type": "code",
   "execution_count": null,
   "id": "b6dc084b-eb7e-4db6-bb61-f2916e8b861c",
   "metadata": {},
   "outputs": [],
   "source": [
    "df = pd.read_parquet(\"parq\")\n",
    "#df = pd.read_parquet(\"parq/wales.parq\")\n",
    "df"
   ]
  },
  {
   "cell_type": "markdown",
   "id": "0f45f707-01b9-4eb9-aa65-ab662175315f",
   "metadata": {},
   "source": [
    "## 2. Highest qualification column"
   ]
  },
  {
   "cell_type": "code",
   "execution_count": null,
   "id": "cadd89ab-0f1f-441c-978e-5be352c57cc3",
   "metadata": {},
   "outputs": [],
   "source": [
    "df.groupby(\"highest_qualification\").size()"
   ]
  },
  {
   "cell_type": "markdown",
   "id": "9f6c392b-f4d3-482c-ae5c-8a8dce5e7b7b",
   "metadata": {},
   "source": [
    "## 3. Height and width of image using correct aspect ratio"
   ]
  },
  {
   "cell_type": "code",
   "execution_count": null,
   "id": "ae18c8cc-ccfa-4155-88fc-e4e5b66b615e",
   "metadata": {},
   "outputs": [],
   "source": [
    "height = 750\n",
    "aspect = (df.x.max() - df.x.min()) / (df.y.max() - df.y.min())\n",
    "width = int(height*aspect)"
   ]
  },
  {
   "cell_type": "markdown",
   "id": "ab04775d-8acb-48db-a2fd-41e33a8e921c",
   "metadata": {},
   "source": [
    "## 4. Calculate counts per pixel for each category"
   ]
  },
  {
   "cell_type": "code",
   "execution_count": null,
   "id": "e528898a-4654-48c6-bfb9-f0866f694218",
   "metadata": {},
   "outputs": [],
   "source": [
    "cvs = ds.Canvas(width, height)\n",
    "counts = cvs.points(df, \"x\", \"y\", ds.by(\"highest_qualification\"))\n",
    "type(counts), counts.shape, counts.dtype, counts.min().item(), counts.max().item()"
   ]
  },
  {
   "cell_type": "markdown",
   "id": "16415858-bd34-4df5-a606-8f525883db30",
   "metadata": {},
   "source": [
    "## 5. Apply colours to obtain an image\n",
    "\n",
    "### Colours are Paul Tol's discrete rainbow colour scheme (https://personal.sron.nl/~pault/) with 5 colours: dark blue, light blue, green, yellow, red"
   ]
  },
  {
   "cell_type": "code",
   "execution_count": null,
   "id": "41368cba-78bd-4fd1-82c5-9e5e9c3a4234",
   "metadata": {},
   "outputs": [],
   "source": [
    "color_key = {\"none\": \"#1965B0\", \"level1\": \"#7BAFDE\", \"level2\": \"#4EB265\", \"level3\": \"#F7F056\",\n",
    "             \"level4\": \"#DC050C\", \"other\": \"black\"}\n",
    "im = tf.shade(counts, how=\"eq_hist\", color_key=color_key)\n",
    "tf.set_background(im, \"black\")"
   ]
  },
  {
   "cell_type": "markdown",
   "id": "0b401f6e-0fdc-40ef-9cd6-622aa2dd173b",
   "metadata": {},
   "source": [
    "## Datashader creates static images.\n",
    "## Would be nice to be able to zoom and pan, and have a legend."
   ]
  }
 ],
 "metadata": {
  "kernelspec": {
   "display_name": "Python 3 (ipykernel)",
   "language": "python",
   "name": "python3"
  },
  "language_info": {
   "codemirror_mode": {
    "name": "ipython",
    "version": 3
   },
   "file_extension": ".py",
   "mimetype": "text/x-python",
   "name": "python",
   "nbconvert_exporter": "python",
   "pygments_lexer": "ipython3",
   "version": "3.8.10"
  }
 },
 "nbformat": 4,
 "nbformat_minor": 5
}
